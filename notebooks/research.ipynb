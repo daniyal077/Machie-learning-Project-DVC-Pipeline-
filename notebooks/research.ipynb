{
 "cells": [
  {
   "cell_type": "code",
   "execution_count": 1,
   "id": "b5bc1236-5134-42b6-b9b9-887a57ce1862",
   "metadata": {},
   "outputs": [],
   "source": [
    "import pandas as pd\n",
    "import numpy as np"
   ]
  },
  {
   "cell_type": "code",
   "execution_count": 2,
   "id": "44364f6f-b7da-40b0-8dd4-5951d4c57119",
   "metadata": {},
   "outputs": [],
   "source": [
    "data = pd.read_csv('https://raw.githubusercontent.com/DataThinkers/Datasets/refs/heads/main/DS/water_potability.csv')"
   ]
  },
  {
   "cell_type": "markdown",
   "id": "75ff5484-2ff4-42c2-a52d-1aa74b8b756f",
   "metadata": {},
   "source": [
    "### Check Null Values In The Dataset¶¶"
   ]
  },
  {
   "cell_type": "code",
   "execution_count": 3,
   "id": "7c26788c-77a2-4f50-b398-510da486e242",
   "metadata": {},
   "outputs": [
    {
     "data": {
      "text/plain": [
       "ph                 491\n",
       "Hardness             0\n",
       "Solids               0\n",
       "Chloramines          0\n",
       "Sulfate            781\n",
       "Conductivity         0\n",
       "Organic_carbon       0\n",
       "Trihalomethanes    162\n",
       "Turbidity            0\n",
       "Potability           0\n",
       "dtype: int64"
      ]
     },
     "execution_count": 3,
     "metadata": {},
     "output_type": "execute_result"
    }
   ],
   "source": [
    "data.isnull().sum()"
   ]
  },
  {
   "cell_type": "markdown",
   "id": "7361b6e7-218f-49ad-864c-78f9ba16881a",
   "metadata": {},
   "source": [
    "### Splitting The Dataset Into The Training Set And Test Set"
   ]
  },
  {
   "cell_type": "code",
   "execution_count": 4,
   "id": "4628c4ab-6a19-43f8-8a8f-00ad8632e416",
   "metadata": {},
   "outputs": [],
   "source": [
    "from sklearn.model_selection import train_test_split\n",
    "train_data,test_data = train_test_split(data,test_size=0.20,random_state=42)"
   ]
  },
  {
   "cell_type": "code",
   "execution_count": 5,
   "id": "e515dde8-92d5-421d-b281-02a9b9423213",
   "metadata": {},
   "outputs": [],
   "source": [
    "def fill_missing_with_median(df):\n",
    "    for column in df.columns:\n",
    "        if df[column].isnull().any():\n",
    "            median_value = df[column].median()\n",
    "            df[column].fillna(median_value,inplace=True)\n",
    "    return df\n",
    "\n",
    "\n",
    "# Fill missing values with median\n",
    "train_processed_data = fill_missing_with_median(train_data)\n",
    "test_processed_data = fill_missing_with_median(test_data)"
   ]
  },
  {
   "cell_type": "code",
   "execution_count": 12,
   "id": "afbc1e6a-d846-425b-9d51-61800bf9e59a",
   "metadata": {},
   "outputs": [],
   "source": [
    "from sklearn.ensemble import RandomForestClassifier\n",
    "import pickle\n",
    "X_train = train_processed_data.iloc[:,0:-1].values\n",
    "y_train = train_processed_data.iloc[:,-1].values\n",
    "\n",
    "n_estimators = 500\n",
    "\n",
    "clf = RandomForestClassifier(n_estimators=n_estimators)\n",
    "clf.fit(X_train,y_train)\n",
    "\n",
    "# save \n",
    "pickle.dump(clf,open(\"rf_model.pkl\",\"wb\"))"
   ]
  },
  {
   "cell_type": "code",
   "execution_count": 13,
   "id": "5b25ae3c-9b5d-4983-9d4d-bf154e2cf200",
   "metadata": {},
   "outputs": [],
   "source": [
    "X_test = test_processed_data.iloc[:,0:-1].values\n",
    "y_test = test_processed_data.iloc[:,-1].values"
   ]
  },
  {
   "cell_type": "code",
   "execution_count": 14,
   "id": "0afdd153-6c61-42ce-ba7c-ea9a6ecf3540",
   "metadata": {},
   "outputs": [
    {
     "name": "stdout",
     "output_type": "stream",
     "text": [
      "acc 0.6890243902439024\n",
      "precision 0.6538461538461539\n",
      "recall 0.3483606557377049\n",
      "f1-score 0.45454545454545453\n"
     ]
    }
   ],
   "source": [
    "from sklearn.metrics import accuracy_score,precision_score,recall_score,f1_score\n",
    "\n",
    "model = pickle.load(open('model.pkl',\"rb\"))\n",
    "\n",
    "y_pred = model.predict(X_test)\n",
    "\n",
    "acc = accuracy_score(y_test,y_pred)\n",
    "precision = precision_score(y_test,y_pred)\n",
    "recall = recall_score(y_test,y_pred)\n",
    "f1_score = f1_score(y_test,y_pred)\n",
    "\n",
    "print(\"acc\",acc)\n",
    "print(\"precision\", precision)\n",
    "print(\"recall\", recall)\n",
    "print(\"f1-score\",f1_score)"
   ]
  },
  {
   "cell_type": "code",
   "execution_count": null,
   "id": "dc53ecc4-52d0-49a9-aacb-e029c04bb5e5",
   "metadata": {},
   "outputs": [],
   "source": []
  }
 ],
 "metadata": {
  "kernelspec": {
   "display_name": "Python 3",
   "language": "python",
   "name": "python3"
  },
  "language_info": {
   "codemirror_mode": {
    "name": "ipython",
    "version": 3
   },
   "file_extension": ".py",
   "mimetype": "text/x-python",
   "name": "python",
   "nbconvert_exporter": "python",
   "pygments_lexer": "ipython3",
   "version": "3.12.6"
  }
 },
 "nbformat": 4,
 "nbformat_minor": 5
}
